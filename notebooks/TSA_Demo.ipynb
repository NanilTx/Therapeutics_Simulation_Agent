{
 "cells": [
  {
   "cell_type": "markdown",
   "id": "5b1a2324",
   "metadata": {},
   "source": [
    "# TSA Demo\n",
    "Run API, bootstrap synthetic data, and execute the pipeline."
   ]
  },
  {
   "cell_type": "code",
   "execution_count": null,
   "id": "a752e8ff",
   "metadata": {},
   "outputs": [],
   "source": [
    "!pip -q install fastapi uvicorn pydantic==2.8.2 numpy pandas torch==2.3.1 scikit-learn requests"
   ]
  },
  {
   "cell_type": "code",
   "execution_count": null,
   "id": "f6a9f1e2",
   "metadata": {},
   "outputs": [],
   "source": [
    "import threading, uvicorn, time, requests, sys\n",
    "sys.path.insert(0, '/mnt/data/therapeutic-simulation-agent/src')\n",
    "from tsa.api.app import app\n",
    "\n",
    "t = threading.Thread(target=lambda: uvicorn.run(app, host='0.0.0.0', port=8000, reload=False), daemon=True)\n",
    "t.start()\n",
    "time.sleep(2)\n",
    "print(requests.get('http://127.0.0.1:8000/status').json())"
   ]
  },
  {
   "cell_type": "code",
   "execution_count": null,
   "id": "a71ae905",
   "metadata": {},
   "outputs": [],
   "source": [
    "import requests\n",
    "print(requests.post('http://127.0.0.1:8000/bootstrap_synth_data').json())\n",
    "print(requests.post('http://127.0.0.1:8000/run_pipeline', json={'n':6}).json().keys())"
   ]
  }
 ],
 "metadata": {},
 "nbformat": 4,
 "nbformat_minor": 5
}
